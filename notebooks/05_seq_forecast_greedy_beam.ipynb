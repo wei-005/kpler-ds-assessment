{
 "cells": [
  {
   "cell_type": "markdown",
   "id": "46cb5175",
   "metadata": {},
   "source": [
    "# 05  Sequence Forecast (Greedy / Beam) for Task‑A"
   ]
  },
  {
   "cell_type": "code",
   "execution_count": 1,
   "id": "07a8ab19-3281-48b6-95c3-ae169ccb15f8",
   "metadata": {},
   "outputs": [],
   "source": [
    "#Adjustable: Add parent directory (which contains utils/) to Python search path\n",
    "import sys, os\n",
    "sys.path.append(os.path.abspath(\"..\"))  #  notebooks  sys.path"
   ]
  },
  {
   "cell_type": "code",
   "execution_count": 6,
   "id": "4e5acfee",
   "metadata": {},
   "outputs": [
    {
     "name": "stdout",
     "output_type": "stream",
     "text": [
      "shape: (1, 16)\n",
      "┌───────────┬───────────┬───────────┬───────────┬───┬───────────┬───────────┬───────────┬──────────┐\n",
      "│ sample_po ┆ vessel_id ┆ destinati ┆ destinati ┆ … ┆ prev_dist ┆ last_leg_ ┆ product_f ┆ is_crisi │\n",
      "│ rt_call_i ┆ ---       ┆ on        ┆ on_latitu ┆   ┆ _km       ┆ knots_est ┆ amily_dom ┆ s_time   │\n",
      "│ d         ┆ i64       ┆ ---       ┆ de        ┆   ┆ ---       ┆ ---       ┆ ---       ┆ ---      │\n",
      "│ ---       ┆           ┆ str       ┆ ---       ┆   ┆ f64       ┆ f64       ┆ str       ┆ bool     │\n",
      "│ i64       ┆           ┆           ┆ f64       ┆   ┆           ┆           ┆           ┆          │\n",
      "╞═══════════╪═══════════╪═══════════╪═══════════╪═══╪═══════════╪═══════════╪═══════════╪══════════╡\n",
      "│ 371013981 ┆ 56709     ┆ Texas     ┆ 29.370731 ┆ … ┆ 10.109735 ┆ 0.012947  ┆ chem/bio  ┆ true     │\n",
      "│           ┆           ┆ City      ┆           ┆   ┆           ┆           ┆           ┆          │\n",
      "└───────────┴───────────┴───────────┴───────────┴───┴───────────┴───────────┴───────────┴──────────┘\n"
     ]
    }
   ],
   "source": [
    "import numpy as np, pandas as pd, polars as pl, joblib\n",
    "from utils.config import DATA_DIR, INTERIM_DIR, PROCESSED_DIR\n",
    "from utils.splits import temporal_split, add_crisis_flag\n",
    "from utils.candidates import build_origin_next_transitions, global_mf_next, build_pc_coords, build_candidates_for_split\n",
    "from utils.features import build_ports_attr, compute_port_degree, attach_port_side, build_sample_side, merge_all_features\n",
    "from sklearn.preprocessing import OneHotEncoder\n",
    "\n",
    "samples = pl.read_parquet(PROCESSED_DIR / \"samples_taskA.parquet\")\n",
    "pc = pl.read_parquet(INTERIM_DIR / \"port_calls.cleaned.parquet\")\n",
    "tr = pl.read_csv(DATA_DIR / \"trades.csv\",  try_parse_dates=True)\n",
    "vs = pl.read_csv(DATA_DIR / \"vessels.csv\", try_parse_dates=True)\n",
    "\n",
    "train, val, test = temporal_split(samples)\n",
    "train = add_crisis_flag(train); val = add_crisis_flag(val); test = add_crisis_flag(test)\n",
    "\n",
    "trans = build_origin_next_transitions(train)\n",
    "g_top = global_mf_next(trans)\n",
    "pc_coords = build_pc_coords(pc)"
   ]
  },
  {
   "cell_type": "code",
   "execution_count": 4,
   "id": "8f8720d4",
   "metadata": {},
   "outputs": [],
   "source": [
    "#Load a trained ranker (LR or GBDT)\n",
    "lr_path  = PROCESSED_DIR / \"model_taskA_logreg.joblib\"\n",
    "gbdt_path= PROCESSED_DIR / \"model_taskA_gbdt.joblib\"\n",
    "use_gbdt = gbdt_path.exists()\n",
    "\n",
    "if use_gbdt:\n",
    "    pack = joblib.load(gbdt_path)\n",
    "    clf = pack[\"clf\"]; enc = pack[\"enc\"]\n",
    "    num_cols = pack[\"num_cols\"]; cat_cols = pack[\"cat_cols\"]\n",
    "else:\n",
    "    clf = joblib.load(lr_path)  # pipeline"
   ]
  },
  {
   "cell_type": "code",
   "execution_count": 17,
   "id": "fd978cb7-ca44-4584-ae36-a3b884b15479",
   "metadata": {},
   "outputs": [
    {
     "name": "stdout",
     "output_type": "stream",
     "text": [
      "shape: (1, 16)\n",
      "┌───────────┬───────────┬───────────┬───────────┬───┬───────────┬───────────┬───────────┬──────────┐\n",
      "│ sample_po ┆ vessel_id ┆ destinati ┆ destinati ┆ … ┆ prev_dist ┆ last_leg_ ┆ product_f ┆ is_crisi │\n",
      "│ rt_call_i ┆ ---       ┆ on        ┆ on_latitu ┆   ┆ _km       ┆ knots_est ┆ amily_dom ┆ s_time   │\n",
      "│ d         ┆ i64       ┆ ---       ┆ de        ┆   ┆ ---       ┆ ---       ┆ ---       ┆ ---      │\n",
      "│ ---       ┆           ┆ str       ┆ ---       ┆   ┆ f64       ┆ f64       ┆ str       ┆ bool     │\n",
      "│ i64       ┆           ┆           ┆ f64       ┆   ┆           ┆           ┆           ┆          │\n",
      "╞═══════════╪═══════════╪═══════════╪═══════════╪═══╪═══════════╪═══════════╪═══════════╪══════════╡\n",
      "│ 371013981 ┆ 56709     ┆ Texas     ┆ 29.370731 ┆ … ┆ 10.109735 ┆ 0.012947  ┆ chem/bio  ┆ true     │\n",
      "│           ┆           ┆ City      ┆           ┆   ┆           ┆           ┆           ┆          │\n",
      "└───────────┴───────────┴───────────┴───────────┴───┴───────────┴───────────┴───────────┴──────────┘\n"
     ]
    }
   ],
   "source": [
    "seed = test.head(1)\n",
    "print(seed)"
   ]
  },
  {
   "cell_type": "code",
   "execution_count": 11,
   "id": "acec098f-9bd0-4e61-bf46-8adf79263e84",
   "metadata": {},
   "outputs": [
    {
     "name": "stdout",
     "output_type": "stream",
     "text": [
      "    sample_port_call_id         candidate     score truth_next_port\n",
      "3             371013981          Quintero  0.900633      Texas City\n",
      "2             371013981           Houston  0.723351      Texas City\n",
      "11            371013981             Tampa  0.667947      Texas City\n",
      "4             371013981  Galveston Light.  0.624828      Texas City\n",
      "12            371013981     Puerto Cortes  0.574844      Texas City\n",
      "   sample_port_call_id      candidate     score truth_next_port\n",
      "0            371140677          Chiba  0.744085           Chiba\n",
      "1            371140677       Kawasaki  0.695198           Chiba\n",
      "2            371140677          Ulsan  0.648185           Chiba\n",
      "3            370979733  San Francisco  0.706300   San Francisco\n",
      "4            370979733     Esmeraldas  0.658761   San Francisco\n",
      "5            370979733  Panama Light.  0.614956   San Francisco\n",
      "CPU times: user 3min 20s, sys: 995 ms, total: 3min 21s\n",
      "Wall time: 3min 21s\n"
     ]
    }
   ],
   "source": [
    "%%time\n",
    "# Greedy one-step predictor\n",
    "ports_attr  = build_ports_attr(pc_coords)\n",
    "port_degree = compute_port_degree(trans)\n",
    "s_side      = build_sample_side(samples, pc, vs)\n",
    "\n",
    "def rank_topk_for_sample(sample_row: pl.DataFrame, k: int = 5) -> pd.DataFrame:\n",
    "    if sample_row.height == 0:\n",
    "        raise ValueError(\"sample_row is empty; supply at least one sample_port_call_id.\")\n",
    "    sample_id = sample_row.select(\"sample_port_call_id\").item()\n",
    "    truth = sample_row.select(\"next_call_name\").item() if \"next_call_name\" in sample_row.columns else None\n",
    "\n",
    "    cands = build_candidates_for_split(\n",
    "        sample_row,\n",
    "        trans,\n",
    "        pc_coords,\n",
    "        add_true_label=False,\n",
    "        N=10,\n",
    "        M=10,\n",
    "        global_top1=g_top,\n",
    "    )\n",
    "    base_cols = [\"sample_port_call_id\", \"origin\", \"candidate\", \"label\", \"y\"]\n",
    "    cands = cands.select([c for c in base_cols if c in cands.columns])\n",
    "\n",
    "    cands = attach_port_side(cands, ports_attr, port_degree)\n",
    "\n",
    "    sample_row = add_crisis_flag(sample_row)\n",
    "    sample_row = sample_row.drop([c for c in (\"origin\", \"candidate\") if c in sample_row.columns])\n",
    "\n",
    "    cands = merge_all_features(cands, s_side, sample_row)\n",
    "    cands = cands.unique(subset=[\"sample_port_call_id\", \"candidate\"])\n",
    "\n",
    "    num_cols = [\n",
    "        \"dist_km\", \"is_same_region\", \"in_cnt\", \"out_cnt\", \"age\",\n",
    "        \"prev_dist_km\", \"last_leg_knots_est\",\n",
    "        \"month_sin\", \"month_cos\", \"dow_sin\", \"dow_cos\",\n",
    "        \"is_crisis_time\", \"dist_x_crisis\",\n",
    "    ]\n",
    "    cat_cols = [\"origin\", \"candidate\", \"vessel_type\", \"dwt_bucket\", \"product_family_dom\"]\n",
    "    cols = list(dict.fromkeys([\"sample_port_call_id\", \"origin\", \"candidate\"] + num_cols + cat_cols))\n",
    "\n",
    "    for c in num_cols:\n",
    "        if c not in cands.columns:\n",
    "            cands = cands.with_columns(pl.lit(0.0).alias(c))\n",
    "    for c in cat_cols:\n",
    "        if c not in cands.columns:\n",
    "            cands = cands.with_columns(pl.lit(\"unk\").alias(c))\n",
    "\n",
    "    pdf = cands.select(cols).to_pandas()\n",
    "\n",
    "    if hasattr(clf, \"predict_proba\") and hasattr(clf, \"steps\"):\n",
    "        X = pdf[num_cols + cat_cols]\n",
    "        proba = clf.predict_proba(X)[:, 1]\n",
    "    else:\n",
    "        X_num = pdf[num_cols].values\n",
    "        X_cat = enc.transform(pdf[cat_cols])\n",
    "        X = np.hstack([X_num, X_cat])\n",
    "        proba = clf.predict_proba(X)[:, 1]\n",
    "\n",
    "    pdf[\"score\"] = proba\n",
    "    pdf = pdf.sort_values(\"score\", ascending=False)\n",
    "    topk = pdf.head(k)[[\"candidate\", \"score\"]].copy()\n",
    "    topk.insert(0, \"sample_port_call_id\", sample_id)\n",
    "    topk[\"truth_next_port\"] = truth\n",
    "    return topk\n",
    "\n",
    "def preview_samples(split: str = \"test\", sample_ids: list[int] | None = None, n: int = 3, k: int = 5) -> pd.DataFrame:\n",
    "    split_map = {\"train\": train, \"val\": val, \"test\": test}\n",
    "    base = split_map[split]\n",
    "    if sample_ids is None:\n",
    "        n = min(n, base.height)\n",
    "        picks = base.sample(n=n, seed=42)\n",
    "    else:\n",
    "        picks = base.filter(pl.col(\"sample_port_call_id\").is_in(sample_ids))\n",
    "    frames = []\n",
    "    for sid in picks[\"sample_port_call_id\"]:\n",
    "        row = base.filter(pl.col(\"sample_port_call_id\") == sid)\n",
    "        frames.append(rank_topk_for_sample(row, k=k))\n",
    "    return pd.concat(frames, ignore_index=True)"
   ]
  },
  {
   "cell_type": "code",
   "execution_count": 18,
   "id": "e2b271e2-b1c1-4680-acd9-96a0193772f8",
   "metadata": {},
   "outputs": [
    {
     "name": "stdout",
     "output_type": "stream",
     "text": [
      "    sample_port_call_id         candidate     score truth_next_port\n",
      "1             371013981          Quintero  0.900633      Texas City\n",
      "7             371013981           Houston  0.723351      Texas City\n",
      "0             371013981             Tampa  0.667947      Texas City\n",
      "12            371013981  Galveston Light.  0.624828      Texas City\n",
      "9             371013981     Puerto Cortes  0.574844      Texas City\n"
     ]
    }
   ],
   "source": [
    "# Example: Single sample (seed defined above)\n",
    "print(rank_topk_for_sample(seed, k=5))"
   ]
  },
  {
   "cell_type": "code",
   "execution_count": 20,
   "id": "d3337e34-4503-4abf-8a6f-234b5635d359",
   "metadata": {},
   "outputs": [
    {
     "name": "stdout",
     "output_type": "stream",
     "text": [
      "    sample_port_call_id              candidate     score  \\\n",
      "0             371070683                  Chiba  0.725499   \n",
      "1             371070683               Kawasaki  0.674615   \n",
      "2             371070683                  Ulsan  0.626134   \n",
      "3             371284739  Khor Al Zubair Light.  0.792790   \n",
      "4             371284739                  Sikka  0.589102   \n",
      "5             371284739    Khor Al Zubair Port  0.583356   \n",
      "6             371220225                  Chiba  0.768799   \n",
      "7             371220225                  Ulsan  0.678155   \n",
      "8             371220225                 Nagoya  0.668338   \n",
      "9             371174635              Rotterdam  0.753377   \n",
      "10            371174635                Antwerp  0.698497   \n",
      "11            371174635               Goteborg  0.610989   \n",
      "12            371108205                Malacca  0.674182   \n",
      "13            371108205                  Dumai  0.668929   \n",
      "14            371108205               Surabaya  0.641927   \n",
      "\n",
      "          truth_next_port  \n",
      "0                   Chiba  \n",
      "1                   Chiba  \n",
      "2                   Chiba  \n",
      "3   Khor Al Zubair Light.  \n",
      "4   Khor Al Zubair Light.  \n",
      "5   Khor Al Zubair Light.  \n",
      "6                 Iwakuni  \n",
      "7                 Iwakuni  \n",
      "8                 Iwakuni  \n",
      "9              Kalundborg  \n",
      "10             Kalundborg  \n",
      "11             Kalundborg  \n",
      "12                 Penang  \n",
      "13                 Penang  \n",
      "14                 Penang  \n"
     ]
    }
   ],
   "source": [
    "# Example: Randomly select 2 test samples to view top-3\n",
    "print(preview_samples(split=\"test\", n=5, k=3))"
   ]
  }
 ],
 "metadata": {
  "kernelspec": {
   "display_name": "kpler-ds (Py3.11)",
   "language": "python",
   "name": "kpler-ds"
  },
  "language_info": {
   "codemirror_mode": {
    "name": "ipython",
    "version": 3
   },
   "file_extension": ".py",
   "mimetype": "text/x-python",
   "name": "python",
   "nbconvert_exporter": "python",
   "pygments_lexer": "ipython3",
   "version": "3.11.13"
  }
 },
 "nbformat": 4,
 "nbformat_minor": 5
}
